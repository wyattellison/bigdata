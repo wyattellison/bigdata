{
 "cells": [
  {
   "cell_type": "markdown",
   "metadata": {},
   "source": [
    "# LOOPS\n",
    "\n",
    "Loops are the heart and soul of most programs.  Python has ```for``` and ```while``` loops, just like Java, but how they are declared is quite different.\n",
    "\n",
    "A classic Java ```for``` loop looks something like this…\n",
    "\n",
    "\n",
    "```\n",
    "for (int x = 0; x < 10; x++) {\n",
    "\tsystem.out.println ('x is now ' + x)\n",
    "}\n",
    "```\n",
    "\n",
    "\n",
    "The same loop in python looks like this…\n",
    "\n",
    "\n",
    "```\n",
    "for x in range(10):\n",
    "\tprint (f'x is now {x}' )\n",
    "```\n",
    "Try running that:"
   ]
  },
  {
   "cell_type": "code",
   "execution_count": null,
   "metadata": {},
   "outputs": [],
   "source": [
    "#Run this cell\n",
    "for x in range(10):\n",
    "    print (f'x is now {x}')"
   ]
  },
  {
   "cell_type": "markdown",
   "metadata": {},
   "source": [
    "1) Just like if statements, ```for``` loops don't need parentheses around them.<br>\n",
    "2) Notice how we used ```fstrings``` to represent ```x``` in our printout.<br>\n",
    "3) The ```range()``` function!\n",
    "\n",
    "The ```range()``` function is a special kind of function called a generator function. ```range()``` creates an array of values from 0 up to whatever value you put in the parentheses.  So, in this example it creates values from 0 to 5.  Or, you could think of it this way... the ```range(10)``` command is creating 6 elements... 0 through 5.\n",
    "\n",
    "Just a reminder that arrays are data structures used to store a bunch of values in an ordered way.  In python, the most commonly used data structure is called a ```list```, but you can use either term.   Here is a simple list...\n",
    "\n",
    "```\n",
    "terms = [1, 2, 3, 4]\n",
    "```\n",
    "\n",
    "To access elements in the list you use the index number (starting at 0).\n",
    "\n",
    "```\n",
    "terms[0] = 1\n",
    "terms[2] = 3\n",
    "```\n",
    "\n",
    "So, ```range()``` is just creating a list for the ```for``` loop to iterate over.  You can change the start point by doing something like this…"
   ]
  },
  {
   "cell_type": "code",
   "execution_count": null,
   "metadata": {},
   "outputs": [],
   "source": [
    "#Run this cell\n",
    "for x in range (2, 12):\n",
    "    print (f'x is now {x}')"
   ]
  },
  {
   "cell_type": "markdown",
   "metadata": {},
   "source": [
    "This will print values from 2 to 11.\n",
    "\n",
    "Let's say you don't want to count by 1's.  Not a problem."
   ]
  },
  {
   "cell_type": "code",
   "execution_count": null,
   "metadata": {},
   "outputs": [],
   "source": [
    "#Run this cell\n",
    "for x in range(5, 26, 2):\n",
    "    print (f'x is now {x}')"
   ]
  },
  {
   "cell_type": "markdown",
   "metadata": {},
   "source": [
    "This will count from 5 to 25 by 2's\n",
    "\n",
    "Can you count down?  You bet."
   ]
  },
  {
   "cell_type": "code",
   "execution_count": null,
   "metadata": {},
   "outputs": [],
   "source": [
    "#run this cell\n",
    "for x in range(10, 0, -1):\n",
    "    print (f'x is now {x}')\n",
    "print('x is now liftoff')"
   ]
  },
  {
   "cell_type": "markdown",
   "metadata": {},
   "source": [
    "Remember how I said that python doesn't have the very useful x++ feature?  This is why.  In Java (and other language) you use x++ ALL THE TIME in loops, but in python it's not needed.  Ask yourself, how often does this pretty specific command x++ come up outside of loops?  Not that often.  So, python got rid of it.  Current score…. python 128, Java 0\n",
    "\n",
    "Can you do something like ```for-each```?  Sure can."
   ]
  },
  {
   "cell_type": "code",
   "execution_count": null,
   "metadata": {},
   "outputs": [],
   "source": [
    "#run this cell\n",
    "flowers = ['rose', 'daisy', 'lily', 'peony', 'iris']\n",
    "\n",
    "for x in flowers:\n",
    "    print (x)"
   ]
  },
  {
   "cell_type": "markdown",
   "metadata": {},
   "source": [
    "Now remember, everything indented under the for statement happens each time through the ```for``` loop. You can have as many indented lines as you want.\n",
    "\n",
    "\n",
    "And when the for loop is over, just start putting statements on the same level as the beginning of the ```for``` loop.  These statements on the same level as the ```for``` loop will happen once the ```for``` loop is completed."
   ]
  },
  {
   "cell_type": "code",
   "execution_count": null,
   "metadata": {},
   "outputs": [],
   "source": [
    "#run this cell\n",
    "count = 0\n",
    "\n",
    "for x in flowers:\n",
    "    print (x)\n",
    "    count += 1 #the += operator is like java's ++ operator, but it's adds whatever value's after the operator\n",
    "\n",
    "print (f'I counted {count} flowers!')"
   ]
  },
  {
   "cell_type": "markdown",
   "metadata": {},
   "source": [
    "You can also use ```while``` loops, just like ```for``` loops:"
   ]
  },
  {
   "cell_type": "code",
   "execution_count": null,
   "metadata": {},
   "outputs": [],
   "source": [
    "#run this cell\n",
    "count = 0\n",
    "\n",
    "while count < 5:\n",
    "    print ( flowers[count] )\n",
    "    count += 1"
   ]
  },
  {
   "cell_type": "markdown",
   "metadata": {},
   "source": [
    "Here's a little pro-tip I've developed over the years.  **Always try to avoid hard-coding numbers into your code.  Instead, use a variable or something that dynamically determines that number.**  That way, if the number needs to change, the program can easily adapt.\n",
    "\n",
    "What do I mean by this?  Look at the ```while``` loop above.  See how I put in the number 5 in the ```while``` statement?  I should instead use some variable or function that determines the length of the flowers list.  That way, if the flowers list changes, the program will still print out all the elements of the list.\n",
    "\n",
    "Is it ever OK to hard-code in numbers?  Sure.  When it's something like the number of months in a year or length of a phone number or other things that will pretty much always stay the same.  However, even some things that seem like they will always stay the same (like semesters in an academic year) may someday change.\n",
    "\n",
    "# PRACTICE"
   ]
  },
  {
   "cell_type": "code",
   "execution_count": null,
   "metadata": {},
   "outputs": [],
   "source": [
    "#Write a for loop that prints the numbers from 1 to 100.  Make sure 100 is printed.\n",
    "\n",
    "#write code here"
   ]
  },
  {
   "cell_type": "code",
   "execution_count": null,
   "metadata": {},
   "outputs": [],
   "source": [
    "#Write a for loop that counts by 2's from 10 to -51, printing each number.\n",
    "\n",
    "#write code here"
   ]
  },
  {
   "cell_type": "code",
   "execution_count": null,
   "metadata": {},
   "outputs": [],
   "source": [
    "#Write a for loop that prints the square of each number from 0 to 25.\n",
    "\n",
    "#write code here"
   ]
  },
  {
   "cell_type": "code",
   "execution_count": null,
   "metadata": {},
   "outputs": [],
   "source": [
    "#Write a while loop that starts at -101 keeps adding 5 until it gets to 125.\n",
    "\n",
    "#write code here"
   ]
  },
  {
   "cell_type": "code",
   "execution_count": null,
   "metadata": {},
   "outputs": [],
   "source": [
    "#Write a while loop that starts at 1024 and divides by 2 each time through the loop.  Stop the loop when the value gets to 1.\n",
    "\n",
    "#write code here"
   ]
  },
  {
   "cell_type": "code",
   "execution_count": null,
   "metadata": {},
   "outputs": [],
   "source": [
    "#Write a for loop that prints out the cube root of every number from 10 to 20.\n",
    "\n",
    "#write code here"
   ]
  },
  {
   "cell_type": "code",
   "execution_count": null,
   "metadata": {},
   "outputs": [],
   "source": [
    "#Re-write the for loop with flowers to instead use the range() function with the length of the flowers array.\n",
    "\n",
    "#write code here"
   ]
  },
  {
   "cell_type": "code",
   "execution_count": null,
   "metadata": {},
   "outputs": [],
   "source": [
    "#Re-write the while loop to use the len() function instead of the number 5.\n",
    "\n",
    "#write code here"
   ]
  },
  {
   "cell_type": "code",
   "execution_count": null,
   "metadata": {},
   "outputs": [],
   "source": [
    "#Challenge: Write a for or while loop that goes from 1 to 1000 and only prints out numbers that are perfect squares.\n",
    "\n",
    "#write code here"
   ]
  },
  {
   "cell_type": "markdown",
   "metadata": {},
   "source": [
    "# LISTS (ARRAYS)"
   ]
  },
  {
   "cell_type": "markdown",
   "metadata": {},
   "source": [
    "Since this course deals with data, it is crucial to understand and be able to use lists.  We will be storing and manipulating data in lists in every unit in this course, so get ready for some fun with lists!\n",
    "\n",
    "It was mentioned earlier that you can create a list using statements like these:\n",
    "\n",
    "\n",
    "```\n",
    "trees = ['oak', 'redwood', 'pine', 'maple', 'palm']\n",
    "grades = [95, 94, 80, 99, 89, 91]\n",
    "```\n",
    "\n",
    "\n",
    "Notice that strings needs quotes and any type of number doesn't.\n",
    "\n",
    "And you can access elements in a list like this (remember... all arrays start counting at 0):\n",
    "\n",
    "```\n",
    "trees[1]\t# redwood\n",
    "grades[3]\t# 99\n",
    "```\n",
    "\n",
    "\n",
    "Notice the hashtag or pound symbol; this is the comment symbol in python.  Remember comments?  They tell the compiler to ignore it, so they're not part of the program.  But they're very useful in helping you (the programmer) describe (and honestly remember) what is going on in the code.  Programmers are notoriously bad at commenting.  Just saying.  You may think that it's obvious what a block of code does, but you come back in 6 months and have absolutely no clue what's going on.  Trust me, this has happened to me many times.\n",
    "\n",
    "How about this line of code...\n",
    "\n",
    "```\n",
    "trees[-1]\n",
    "```\n",
    "\n",
    "\n",
    "In most programming languages, this line would cause an error.  Not in python!  Negative indexes just means start counting from the end.  So in this case, this would give you the last element in the trees list... palm.\n",
    "\n",
    "```\n",
    "grades[-2]\t# 89... the 2nd to last element in the grades list;  make sense?\n",
    "```\n",
    "\n",
    "\n",
    "You can also store values in arrays using the same techniques:\n",
    "\n",
    "```\n",
    "grades[1] = 72\t# stores 72 in the 2nd element\n",
    "trees[-1] = 'walnut'\t# walnut in the last element\n",
    "```\n",
    "\n",
    "\n",
    "Now, let's say you need to create a large list or a dynamically created list (which you will be doing all the time in this course), use the static method of creating a list (shown above) just won't work.  Instead, you can create lists in the following ways:\n",
    "\n",
    "```\n",
    "grades = []\t\t\t# creates a list with unknown size and nothing stored in it\n",
    "grades =  range(20)\t\t# creates a list with 20 elements, with values from 0 to 19\n",
    "grades = [0 for x in range(20) ]\t# stores 0 in each of the 20 elements in the list\n",
    "grades = [x**2 for x in range(20) ]\t# stores x^2 in each of the 20 elements in the list\n",
    "```\n",
    "\n",
    "\n",
    "Now, let's say you need to add or remove elements from a list.  There are lots of simple commands to do this...\n",
    "\n",
    "```\n",
    "trees.append('cedar')\t# adds cedar to the end of the trees list\n",
    "trees.insert(1, 'birch')\t# adds birch at 2nd spot (and everything else moves down)\n",
    "trees.pop(3)\t\t\t# removes the element at index 3 (the 4th spot in the list)\n",
    "```\n",
    "\n",
    "There are many other useful commands for lists, so feel free to investigate them, but we won't be using them much in this course.\n"
   ]
  },
  {
   "cell_type": "markdown",
   "metadata": {},
   "source": [
    "# PRACTICE"
   ]
  },
  {
   "cell_type": "code",
   "execution_count": null,
   "metadata": {},
   "outputs": [],
   "source": [
    "#Create a list with the names of week days and print the 3rd element.\n",
    "#To help:  days = ['Monday', 'Tuesday', 'Wednesday', 'Thursday', 'Friday']\n",
    "\n",
    "#write code here"
   ]
  },
  {
   "cell_type": "code",
   "execution_count": null,
   "metadata": {},
   "outputs": [],
   "source": [
    "#Add to the list of week days the names of the weekend days.  Print the last element.\n",
    "\n",
    "#write code here"
   ]
  },
  {
   "cell_type": "code",
   "execution_count": null,
   "metadata": {},
   "outputs": [],
   "source": [
    "#Remove Wednesday from the list.  Print the length of this altered list.\n",
    "\n",
    "#write code here"
   ]
  },
  {
   "cell_type": "code",
   "execution_count": null,
   "metadata": {},
   "outputs": [],
   "source": [
    "#Insert 'Hump Day' into where Wednesday used to be.  Print the length of this new list.\n",
    "\n",
    "#write code here"
   ]
  },
  {
   "cell_type": "code",
   "execution_count": null,
   "metadata": {},
   "outputs": [],
   "source": [
    "#Use a for loop to insert the numbers 0 to 10 into a list.  Then print out the numbers in reverse.\n",
    "#Hint:  use the append() function.\n",
    "\n",
    "#write code here"
   ]
  },
  {
   "cell_type": "code",
   "execution_count": null,
   "metadata": {},
   "outputs": [],
   "source": [
    "#Create the same list as the previous question but use the range() function instead.\n",
    "\n",
    "#write code here"
   ]
  },
  {
   "cell_type": "code",
   "execution_count": null,
   "metadata": {},
   "outputs": [],
   "source": [
    "#Create a list with 50 elements with the square root of the index number stored in each element in the list.\n",
    "\n",
    "#write code here"
   ]
  },
  {
   "cell_type": "markdown",
   "metadata": {},
   "source": [
    "# MULTIDIMENSIONAL ARRAYS "
   ]
  },
  {
   "cell_type": "markdown",
   "metadata": {},
   "source": [
    "You can imagine a list looking like this...\n",
    "\n",
    "|0|1|2|3|4|5|\n",
    "|:-:|:-:|:-:|:-:|:-:|:-:|\n",
    "|'oak'|'redwood'|'pine'|'maple'|'palm'|'cedar|\n",
    "\n",
    "This is a one-dimensional list.  Working with data, we'll often need multidimensional lists.  So imagine a list of lists.  Something like this...\n",
    "\n",
    "|plants|0|1|2|3|4|5|\n",
    "|:-:|:-:|:-:|:-:|:-:|:-:|:-:|\n",
    "|0|'oak'|'redwood'|'pine'|'maple'|'palm'|'cedar|\n",
    "|1|'petunia'|'daisy'|'lily'|'coreopsis'|'iris'|'tulip'|\n",
    "|2|'azalea'|'rhododendron'|'hydrangea'|'lilac'|'viburnum'|'forsythia'|\n",
    "\n",
    "In this example, the list is called plants.  The first row of plants is trees, the next one is flowers, and the last one is shrubs.  We can access and write to the list like this...\n",
    "\n",
    "```\n",
    "plants[0][4]\t\t\t# returns 'palm'\n",
    "plants[1][2] = 'dahlia'\t# saves 'dahlia' in the 3rd element of the 2nd row (list)\n",
    "plants[2]\t\t\t# returns the entire list stored in the 3rd row\n",
    "len(plants)\t\t\t# returns the number of rows (lists):  3\n",
    "len(plants[1])\t\t\t# returns the number of elements in the 2nd row:  6\n",
    "```\n",
    "\n",
    "We can create any number of dimensions with our lists.  It all depends on the data we are storing.  Here's a typical example we'll see in this course.  We have test score data from 388 students.  Each row represents one student's information.  Each column (the same element number in each row) represents some piece of the data. \n",
    "\n",
    "|student_data|0 (admitted?)|1 (test 1 score)|2 (test 2 score)|\n",
    "|:-:|:-:|:-:|:-:|\n",
    "|0|1|98|97|\n",
    "|1|0|90|88|\n",
    "|2|0|84|83|\n",
    "|...|...|...|...|\n",
    "|387|1|92|95|\n",
    "\n",
    "See how this 2-D list is a logical way to store this data?  Here is a simple way to create this ```student_data``` 2-D list with 0 stored in each element...\n",
    "\n",
    "```\n",
    "num_students = 388\n",
    "num_data_points = 3\n",
    "\n",
    "student_data = [ [ 0 for x in range(num_data_points) ] for y in range(num_students) ]\n",
    "```\n",
    "\n",
    "\n",
    "Notice how we create a list of 3 data points and store 0 in each element.  Then we store this list of data points in each element of a list for the number of students.  Written another way, we can create a 2-D list using ```for``` loops.\n",
    "\n",
    "```\n",
    "num_students = 388\n",
    "num_data_points = 3\n",
    "student_data = [ ]\n",
    "\n",
    "for x in range(num_students):\n",
    "\tstudent_data.append( [ ] )\n",
    "\n",
    "\tfor y in range(num_data_points):\n",
    "\t\tstudent_data[x].append(0)\n",
    "```\n",
    "\n",
    "\n",
    "Whichever way you feel most comfortable with is fine.\n",
    "\n",
    "# PRACTICE"
   ]
  },
  {
   "cell_type": "code",
   "execution_count": null,
   "metadata": {},
   "outputs": [],
   "source": [
    "#data[1][2] will get you which element in which row of a 2-D list?\n",
    "\n",
    "#this isn't really coding, but I guess write your answer here"
   ]
  },
  {
   "cell_type": "code",
   "execution_count": null,
   "metadata": {},
   "outputs": [],
   "source": [
    "#Create a 3 x 3 2-D array with 0's stored in every element.\n",
    "#Test this out by printing the length of the list and then the length of each row of the list.\n",
    "\n",
    "#Write code here"
   ]
  },
  {
   "cell_type": "code",
   "execution_count": null,
   "metadata": {},
   "outputs": [],
   "source": [
    "#Imagine that the above list is a tic-tac-toe game board.\n",
    "#Insert 'X' into the top-right, center, and bottom-left elements.#\n",
    "\n",
    "#Write code here"
   ]
  },
  {
   "cell_type": "code",
   "execution_count": null,
   "metadata": {},
   "outputs": [],
   "source": [
    "#Create a 2-D list that represents the weeks in February.\n",
    "#So, create a list with the days of the week.\n",
    "#Then, add this list 4 times into another list, representing each week of the month.\n",
    "\n",
    "#Write code here"
   ]
  },
  {
   "cell_type": "code",
   "execution_count": null,
   "metadata": {},
   "outputs": [],
   "source": [
    "#Do the same thing as the above problem, but rather than just putting in the name of the day,\n",
    "#add to each element the following string:'Week ' + number of week + ': ' + name of day.\n",
    "\n",
    "#Write code here"
   ]
  },
  {
   "cell_type": "code",
   "execution_count": null,
   "metadata": {},
   "outputs": [],
   "source": [
    "#Do the same as the above question,\n",
    "#but at the beginning of the string put 'Day : ' + number of day in the month + ', '.\n",
    "\n",
    "#Write code here"
   ]
  }
 ],
 "metadata": {
  "kernelspec": {
   "display_name": "Python 3",
   "language": "python",
   "name": "python3"
  },
  "language_info": {
   "codemirror_mode": {
    "name": "ipython",
    "version": 3
   },
   "file_extension": ".py",
   "mimetype": "text/x-python",
   "name": "python",
   "nbconvert_exporter": "python",
   "pygments_lexer": "ipython3",
   "version": "3.7.7"
  }
 },
 "nbformat": 4,
 "nbformat_minor": 4
}
